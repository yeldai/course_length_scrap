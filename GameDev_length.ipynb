{
 "cells": [
  {
   "cell_type": "code",
   "execution_count": 1,
   "id": "925ecd92-d66d-4213-9e47-4f016b4eb1bf",
   "metadata": {},
   "outputs": [],
   "source": [
    "import requests\n",
    "import re\n",
    "import datetime\n",
    "import numpy as np\n",
    "from bs4 import BeautifulSoup \n",
    "from gazpacho import Soup\n"
   ]
  },
  {
   "cell_type": "code",
   "execution_count": 2,
   "id": "14a6528f-57db-4cdf-b647-f7c048850855",
   "metadata": {},
   "outputs": [],
   "source": [
    "url =r\"https://www.gamedev.tv/courses/enrolled/1394720\""
   ]
  },
  {
   "cell_type": "code",
   "execution_count": 3,
   "id": "530eeff5-d3c8-4b54-bac6-721e4ff434c0",
   "metadata": {},
   "outputs": [],
   "source": [
    "pages=requests.get(url)"
   ]
  },
  {
   "cell_type": "code",
   "execution_count": 4,
   "id": "a7f58c9f-f71e-45d4-901a-d9313c50e48e",
   "metadata": {},
   "outputs": [],
   "source": [
    "soup = Soup(pages.text)"
   ]
  },
  {
   "cell_type": "code",
   "execution_count": 6,
   "id": "6675db4d-5486-44e2-b777-593207f7a081",
   "metadata": {},
   "outputs": [
    {
     "data": {
      "text/plain": [
       "['Introduction & Setup (0 hours 33 minutes)',\n",
       " 'Delivery Driver (2 hours 19 minutes)',\n",
       " 'Snow Boarder (2 hours 27 minutes)',\n",
       " 'Quiz Master (2 hours 48 minutes)',\n",
       " 'TileVania (5 hours 12 minutes)',\n",
       " 'Laser Defender (4 hours 32 minutes)']"
      ]
     },
     "execution_count": 6,
     "metadata": {},
     "output_type": "execute_result"
    }
   ],
   "source": [
    "divs = soup.find(\"div\", {\"class\": \"section-title\"}, partial=True)\n",
    "[div.text for div in divs]"
   ]
  },
  {
   "cell_type": "code",
   "execution_count": null,
   "id": "88ace226-f23a-4fc6-b39f-6514a9c0dfef",
   "metadata": {},
   "outputs": [],
   "source": []
  }
 ],
 "metadata": {
  "kernelspec": {
   "display_name": "Python 3.8 (pytorch)",
   "language": "python",
   "name": "pytorch"
  },
  "language_info": {
   "codemirror_mode": {
    "name": "ipython",
    "version": 3
   },
   "file_extension": ".py",
   "mimetype": "text/x-python",
   "name": "python",
   "nbconvert_exporter": "python",
   "pygments_lexer": "ipython3",
   "version": "3.8.10"
  }
 },
 "nbformat": 4,
 "nbformat_minor": 5
}
